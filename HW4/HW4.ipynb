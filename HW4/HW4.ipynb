{
 "cells": [
  {
   "cell_type": "code",
   "execution_count": 84,
   "metadata": {},
   "outputs": [],
   "source": [
    "import numpy as np"
   ]
  },
  {
   "cell_type": "code",
   "execution_count": 85,
   "metadata": {},
   "outputs": [],
   "source": [
    "epoch = 1000\n",
    "learning_rate = 0.05\n",
    "\n",
    "data_x = np.array(([1,0,0],[1,1,1],[1,0,1],[1,1,0]))\n",
    "data_y = np.array([0,0,1,1])"
   ]
  },
  {
   "cell_type": "code",
   "execution_count": 86,
   "metadata": {},
   "outputs": [
    {
     "name": "stdout",
     "output_type": "stream",
     "text": [
      "w11: 0.74, w12: 0.71, w10: 0.69\n",
      "w21: 0.09, w22: 0.88, w20: 0.42\n",
      "v1: 0.58, v2: 0.59\n"
     ]
    }
   ],
   "source": [
    "w11, w12, w10, w21, w22, w20 = np.random.rand(6)\n",
    "v1, v2 = np.random.rand(2)\n",
    "\n",
    "print(f\"w11: {w11:.2f}, w12: {w12:.2f}, w10: {w10:.2f}\")\n",
    "print(f\"w21: {w21:.2f}, w22: {w22:.2f}, w20: {w20:.2f}\")\n",
    "print(f\"v1: {v1:.2f}, v2: {v2:.2f}\")"
   ]
  },
  {
   "cell_type": "code",
   "execution_count": 87,
   "metadata": {},
   "outputs": [],
   "source": [
    "def Tanh(x):\n",
    "    return np.tanh(x)"
   ]
  },
  {
   "cell_type": "code",
   "execution_count": 88,
   "metadata": {},
   "outputs": [],
   "source": [
    "for e in range(epoch):\n",
    "    for x, t in zip(data_x, data_y):\n",
    "        # forward\n",
    "        h1 = Tanh(w10 * x[0] + w11 * x[1] + w12 * x[2])\n",
    "        h2 = Tanh(w20 * x[0] + w21 * x[1] + w22 * x[2])\n",
    "        y = v1*h1 + v2*h2\n",
    "\n",
    "        # backward\n",
    "        delta = y - t\n",
    "        dv1 = delta * h1\n",
    "        dv2 = delta * h2\n",
    "        dh1 = delta * v1 * (1 - h1**2)\n",
    "        dh2 = delta * v2 * (1 - h2**2)\n",
    "        dw10 = dh1 * x[0]\n",
    "        dw11 = dh1 * x[1]\n",
    "        dw12 = dh1 * x[2]\n",
    "        dw20 = dh2 * x[0]\n",
    "        dw21 = dh2 * x[1]\n",
    "        dw22 = dh2 * x[2]\n",
    "        \n",
    "        # update\n",
    "        v1 -= learning_rate * dv1\n",
    "        v2 -= learning_rate * dv2\n",
    "        w10 -= learning_rate * dw10\n",
    "        w11 -= learning_rate * dw11\n",
    "        w12 -= learning_rate * dw12\n",
    "        w20 -= learning_rate * dw20\n",
    "        w21 -= learning_rate * dw21\n",
    "        w22 -= learning_rate * dw22"
   ]
  },
  {
   "cell_type": "code",
   "execution_count": 89,
   "metadata": {},
   "outputs": [
    {
     "name": "stdout",
     "output_type": "stream",
     "text": [
      "w11: 2.16, w12: 2.24, w21: 0.78, w22: 0.79\n"
     ]
    }
   ],
   "source": [
    "print(f\"w11: {w11:.2f}, w12: {w12:.2f}, w21: {w21:.2f}, w22: {w22:.2f}\")"
   ]
  },
  {
   "cell_type": "code",
   "execution_count": 90,
   "metadata": {},
   "outputs": [
    {
     "name": "stdout",
     "output_type": "stream",
     "text": [
      "[1 0 0]: 0.01\n",
      "[1 1 1]: 0.02\n",
      "[1 0 1]: 1.00\n",
      "[1 1 0]: 1.00\n"
     ]
    }
   ],
   "source": [
    "# test\n",
    "for x in data_x:\n",
    "    h1 = Tanh(w10 * x[0] + w11 * x[1] + w12 * x[2])\n",
    "    h2 = Tanh(w20 * x[0] + w21 * x[1] + w22 * x[2])\n",
    "    y = v1*h1 + v2*h2\n",
    "    print(f\"{x}: {y:.2f}\")"
   ]
  }
 ],
 "metadata": {
  "kernelspec": {
   "display_name": "ml-env",
   "language": "python",
   "name": "python3"
  },
  "language_info": {
   "codemirror_mode": {
    "name": "ipython",
    "version": 3
   },
   "file_extension": ".py",
   "mimetype": "text/x-python",
   "name": "python",
   "nbconvert_exporter": "python",
   "pygments_lexer": "ipython3",
   "version": "3.12.4"
  }
 },
 "nbformat": 4,
 "nbformat_minor": 2
}
