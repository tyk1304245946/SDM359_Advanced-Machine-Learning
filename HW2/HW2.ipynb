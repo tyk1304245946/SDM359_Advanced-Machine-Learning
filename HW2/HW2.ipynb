{
 "cells": [
  {
   "cell_type": "code",
   "execution_count": 1,
   "metadata": {},
   "outputs": [],
   "source": [
    "import numpy as np"
   ]
  },
  {
   "cell_type": "code",
   "execution_count": 2,
   "metadata": {},
   "outputs": [],
   "source": [
    "n = 2\n",
    "m = 4\n",
    "data_x = [\n",
    "    [1,2,2],\n",
    "    [1,-2,2],\n",
    "    [1,1,-2],\n",
    "    [1,-1, 0]]\n",
    "data_y = [-1, -1, 1, 1]\n",
    "\n",
    "data_x = np.array(data_x)\n",
    "data_y = np.array(data_y)"
   ]
  },
  {
   "cell_type": "code",
   "execution_count": 3,
   "metadata": {},
   "outputs": [],
   "source": [
    "def SGN(x):\n",
    "    if x > 0:\n",
    "        return 1\n",
    "    else:\n",
    "        return -1"
   ]
  },
  {
   "cell_type": "code",
   "execution_count": 4,
   "metadata": {},
   "outputs": [
    {
     "name": "stdout",
     "output_type": "stream",
     "text": [
      "epoch: 0\n",
      "k:  0, w^T * x:  0.00, y: -1, y_estimate: -1, It is True,  w_k+1: [0 0 0]\n",
      "k:  1, w^T * x:  0.00, y: -1, y_estimate: -1, It is True,  w_k+1: [0 0 0]\n",
      "k:  2, w^T * x:  0.00, y:  1, y_estimate: -1, It is False,  w_k+1: [ 1  1 -2]\n",
      "k:  3, w^T * x:  0.00, y:  1, y_estimate: -1, It is False,  w_k+1: [ 2  0 -2]\n",
      "epoch: 1\n",
      "k:  2, w^T * x: -2.00, y: -1, y_estimate: -1, It is True,  w_k+1: [ 2  0 -2]\n",
      "k:  3, w^T * x: -2.00, y: -1, y_estimate: -1, It is True,  w_k+1: [ 2  0 -2]\n",
      "k:  4, w^T * x:  6.00, y:  1, y_estimate:  1, It is True,  w_k+1: [ 2  0 -2]\n",
      "k:  5, w^T * x:  2.00, y:  1, y_estimate:  1, It is True,  w_k+1: [ 2  0 -2]\n"
     ]
    }
   ],
   "source": [
    "w = [0, 0, 0]\n",
    "w = np.array(w)\n",
    "result = []\n",
    "\n",
    "for e in range(2):\n",
    "    print(\"epoch:\", e)\n",
    "    for i in range(m):\n",
    "        k = e*n + i\n",
    "        # print(\"k:\", k)\n",
    "        x = data_x[i]\n",
    "        y = data_y[i]\n",
    "        wx = np.dot(w, x)\n",
    "        # print(\"w^T * x:\", wx)\n",
    "        y_est = SGN(wx)\n",
    "        # print(\"y_estimate:\", y_est)\n",
    "        if y_est * y <= 0:\n",
    "            w = np.add(w, y*x)\n",
    "        # print(\"w:\", w)\n",
    "        # print()\n",
    "\n",
    "        print(f\"k: {k:2d}, w^T * x: {wx:5.2f}, y: {data_y[i]:2d}, y_estimate: {y_est:2d}, It is {data_y[i]==y_est},  w_k+1: {w}\")\n"
   ]
  }
 ],
 "metadata": {
  "kernelspec": {
   "display_name": "ml-env",
   "language": "python",
   "name": "python3"
  },
  "language_info": {
   "codemirror_mode": {
    "name": "ipython",
    "version": 3
   },
   "file_extension": ".py",
   "mimetype": "text/x-python",
   "name": "python",
   "nbconvert_exporter": "python",
   "pygments_lexer": "ipython3",
   "version": "3.12.4"
  }
 },
 "nbformat": 4,
 "nbformat_minor": 2
}
